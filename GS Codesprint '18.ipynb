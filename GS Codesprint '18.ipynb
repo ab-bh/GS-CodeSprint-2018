{
 "cells": [
  {
   "cell_type": "code",
   "execution_count": 1,
   "metadata": {
    "collapsed": true
   },
   "outputs": [],
   "source": [
    "# import the dependencies\n",
    "## install dependencies in terminal as follows\n",
    "# pip install numpy\n",
    "# pip install pandas\n",
    "# pip install xgboost\n",
    "# pip install -U scikit-learn\n",
    "\n",
    "import numpy as np\n",
    "import pandas as pd \n",
    "\n",
    "import xgboost as xgb\n",
    "from sklearn.model_selection import train_test_split\n",
    "from sklearn.neighbors import KNeighborsClassifier\n",
    "from sklearn.svm import SVC\n",
    "from sklearn.tree import DecisionTreeClassifier\n",
    "from sklearn.ensemble import RandomForestClassifier, AdaBoostClassifier\n",
    "from sklearn.naive_bayes import MultinomialNB\n",
    "from sklearn.linear_model import LogisticRegression\n",
    "from sklearn.metrics import f1_score"
   ]
  },
  {
   "cell_type": "code",
   "execution_count": 13,
   "metadata": {
    "collapsed": true
   },
   "outputs": [],
   "source": [
    "# load the dataset\n",
    "\n",
    "train = pd.read_csv('train.csv')\n",
    "test = pd.read_csv('test.csv', names = train.columns)\n",
    "nans = test.pop('popularity')\n",
    "y = train.pop('popularity')\n",
    "X = train"
   ]
  },
  {
   "cell_type": "code",
   "execution_count": 14,
   "metadata": {
    "collapsed": true
   },
   "outputs": [],
   "source": [
    "# train:test splits 80:20 ratio\n",
    "\n",
    "from sklearn.model_selection import train_test_split\n",
    "\n",
    "X_train, X_test, y_train, y_test = train_test_split(X, y, test_size= 0.2)"
   ]
  },
  {
   "cell_type": "code",
   "execution_count": 67,
   "metadata": {
    "scrolled": true
   },
   "outputs": [
    {
     "name": "stdout",
     "output_type": "stream",
     "text": [
      "Nearest Neighbors f1_score 957.055214724\n",
      "RBF SVM f1_score 990.797546012\n",
      "xgb f1_score 990.797546012\n"
     ]
    }
   ],
   "source": [
    "# analysis for the correct classifiers for the prediction\n",
    "\n",
    "names = [\"Nearest Neighbors\", \"RBF SVM\",\"xgb\"]\n",
    "\n",
    "classifiers = [\n",
    "    KNeighborsClassifier(6, leaf_size=25, weights='distance'),\n",
    "    SVC(gamma=0.4, C=7, decision_function_shape='ovr'),\n",
    "    xgb.XGBClassifier(max_depth=8, n_estimators=450, learning_rate=0.2)]\n",
    "\n",
    "for clf in xrange(len(classifiers)):\n",
    "    classifiers[clf].fit(X_train, y_train)\n",
    "    y_pred = classifiers[clf].predict(X_test)\n",
    "    print str(names[clf])+\" f1_score \"+str(1000*f1_score(y_test, y_pred, average='micro'))"
   ]
  },
  {
   "cell_type": "code",
   "execution_count": 44,
   "metadata": {
    "scrolled": false
   },
   "outputs": [
    {
     "name": "stdout",
     "output_type": "stream",
     "text": [
      "f1_score 987.73006135\n"
     ]
    }
   ],
   "source": [
    "#ensemble methodology to analyse performance\n",
    "\n",
    "from sklearn.ensemble import VotingClassifier\n",
    "from sklearn.model_selection import cross_val_score\n",
    "clf2=SVC(gamma=0.4, C=7, decision_function_shape='ovr', tol=1e-4)\n",
    "clf3=xgb.XGBClassifier(max_depth=8, n_estimators=400, learning_rate=0.2)\n",
    "ensemble = VotingClassifier(estimators=[('svm', clf2), ('xgb', clf3)], voting='hard')\n",
    "ensemble.fit(X_train, y_train)\n",
    "y_pred = ensemble.predict(X_test)\n",
    "print \"f1_score \"+str(1000*f1_score(y_test, y_pred, average='micro'))"
   ]
  },
  {
   "cell_type": "code",
   "execution_count": 32,
   "metadata": {
    "collapsed": true
   },
   "outputs": [],
   "source": [
    "# creating prediction files for corresponding methodologies\n",
    "\n",
    "clf3.fit(X_train,y_train)\n",
    "submission_xgb = clf3.predict(test)\n",
    "\n",
    "clf2.fit(X_train,y_train)\n",
    "submission_svm = clf2.predict(test)"
   ]
  },
  {
   "cell_type": "code",
   "execution_count": 33,
   "metadata": {
    "collapsed": true
   },
   "outputs": [],
   "source": [
    "submission_ensemble = ensemble.predict(test)"
   ]
  },
  {
   "cell_type": "code",
   "execution_count": 34,
   "metadata": {
    "collapsed": true
   },
   "outputs": [],
   "source": [
    "submission_ensemble = pd.DataFrame(submission_ensemble)\n",
    "submission_xgb = pd.DataFrame(submission_xgb)\n",
    "submission_svm = pd.DataFrame(submission_svm)"
   ]
  },
  {
   "cell_type": "code",
   "execution_count": 35,
   "metadata": {
    "collapsed": true
   },
   "outputs": [],
   "source": [
    "# prediction.csv\n",
    "submission_svm.to_csv('prediction.csv', header= False, index=False )"
   ]
  },
  {
   "cell_type": "code",
   "execution_count": null,
   "metadata": {
    "collapsed": true
   },
   "outputs": [],
   "source": []
  }
 ],
 "metadata": {
  "kernelspec": {
   "display_name": "Python 2",
   "language": "python",
   "name": "python2"
  },
  "language_info": {
   "codemirror_mode": {
    "name": "ipython",
    "version": 2
   },
   "file_extension": ".py",
   "mimetype": "text/x-python",
   "name": "python",
   "nbconvert_exporter": "python",
   "pygments_lexer": "ipython2",
   "version": "2.7.13"
  }
 },
 "nbformat": 4,
 "nbformat_minor": 2
}
